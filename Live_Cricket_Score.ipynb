{
 "cells": [
  {
   "cell_type": "markdown",
   "metadata": {},
   "source": [
    "# Live Cricket Score"
   ]
  },
  {
   "cell_type": "markdown",
   "metadata": {},
   "source": [
    "Python script that brings cricket scores right into your terminal in real time!"
   ]
  },
  {
   "cell_type": "code",
   "execution_count": null,
   "metadata": {
    "collapsed": true
   },
   "outputs": [],
   "source": [
    "from bs4 import BeautifulSoup as soup\n",
    "from urllib.request import urlopen as uReq\n",
    "\n",
    "url=\"http://www.cricbuzz.com/\"\n",
    "Client=uReq(url)\n",
    "\n",
    "html_page=Client.read()\n",
    "Client.close()\n",
    "\n",
    "\n",
    "soup_page=soup(html_page,\"html.parser\")\n",
    "\n",
    "\n",
    "score_card=soup_page.findAll(\"div\",{\"class\":\"cb-col cb-col-25 cb-mtch-blk\"})\n",
    "l = len(score_card)\n",
    "print(l)\n",
    "for i in range(l):\n",
    "    print(score_card[i].a[\"title\"])\n",
    "    print(score_card[i].a.text)\n",
    "    print()"
   ]
  }
 ],
 "metadata": {
  "kernelspec": {
   "display_name": "Python 3",
   "language": "python",
   "name": "python3"
  },
  "language_info": {
   "codemirror_mode": {
    "name": "ipython",
    "version": 3
   },
   "file_extension": ".py",
   "mimetype": "text/x-python",
   "name": "python",
   "nbconvert_exporter": "python",
   "pygments_lexer": "ipython3",
   "version": "3.6.0"
  }
 },
 "nbformat": 4,
 "nbformat_minor": 2
}
